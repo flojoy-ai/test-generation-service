{
 "cells": [
  {
   "cell_type": "code",
   "execution_count": null,
   "metadata": {},
   "outputs": [
    {
     "ename": "",
     "evalue": "",
     "output_type": "error",
     "traceback": [
      "\u001b[1;31mThe kernel failed to start as 'TypeAliasType' could not be imported from '/opt/homebrew/lib/python3.10/site-packages/typing_extensions.py'.\n",
      "\u001b[1;31mClick <a href='https://aka.ms/kernelFailuresModuleImportErrFromFile'>here</a> for more info."
     ]
    }
   ],
   "source": [
    "!pip install --upgrade pip\n",
    "!pip install langchain-community langchain-openai tiktoken pinecone-client apify-client langchain-pinecone PyGithub langchain-anthropic\n",
    "!pip install langchainhub\n",
    "!pip install python-dotenv"
   ]
  },
  {
   "cell_type": "code",
   "execution_count": null,
   "metadata": {},
   "outputs": [
    {
     "ename": "",
     "evalue": "",
     "output_type": "error",
     "traceback": [
      "\u001b[1;31mThe kernel failed to start as 'TypeAliasType' could not be imported from '/opt/homebrew/lib/python3.10/site-packages/typing_extensions.py'.\n",
      "\u001b[1;31mClick <a href='https://aka.ms/kernelFailuresModuleImportErrFromFile'>here</a> for more info."
     ]
    }
   ],
   "source": [
    "from dotenv import load_dotenv\n",
    "load_dotenv()"
   ]
  },
  {
   "cell_type": "markdown",
   "metadata": {},
   "source": [
    "# GET DATA FOR RETRIEVAL"
   ]
  },
  {
   "cell_type": "markdown",
   "metadata": {},
   "source": [
    "## This document provides steps and different ways you can load data and create embeddings for document retrieval. The code is commented because accidently running this code can mess up your data."
   ]
  },
  {
   "cell_type": "code",
   "execution_count": null,
   "metadata": {},
   "outputs": [
    {
     "ename": "",
     "evalue": "",
     "output_type": "error",
     "traceback": [
      "\u001b[1;31mThe kernel failed to start as 'TypeAliasType' could not be imported from '/opt/homebrew/lib/python3.10/site-packages/typing_extensions.py'.\n",
      "\u001b[1;31mClick <a href='https://aka.ms/kernelFailuresModuleImportErrFromFile'>here</a> for more info."
     ]
    }
   ],
   "source": [
    "# option 1: load from apify scraped data\n",
    "# from langchain_community.document_loaders import ApifyDatasetLoader\n",
    "# from langchain_core.documents import Document\n",
    "# from langchain_text_splitters import RecursiveCharacterTextSplitter\n",
    "\n",
    "\n",
    "# loader = ApifyDatasetLoader(\n",
    "#     dataset_id=\"n36dyzbYaJOxWqSk5\", # change this to your dataset ID\n",
    "#     dataset_mapping_function=lambda x: Document(\n",
    "#         page_content=x['allText'], metadata={\"source\": x['url']}\n",
    "#     )\n",
    "# )\n",
    "# data = loader.load()\n",
    "# split_docs = RecursiveCharacterTextSplitter(\n",
    "#     chunk_size=3000,\n",
    "#     chunk_overlap=100,\n",
    "# ).create_documents([doc.page_content for doc in data])\n",
    "# split_docs"
   ]
  },
  {
   "cell_type": "code",
   "execution_count": null,
   "metadata": {},
   "outputs": [
    {
     "ename": "",
     "evalue": "",
     "output_type": "error",
     "traceback": [
      "\u001b[1;31mThe kernel failed to start as 'TypeAliasType' could not be imported from '/opt/homebrew/lib/python3.10/site-packages/typing_extensions.py'.\n",
      "\u001b[1;31mClick <a href='https://aka.ms/kernelFailuresModuleImportErrFromFile'>here</a> for more info."
     ]
    }
   ],
   "source": [
    "\n",
    "# # option 2: load from github repo containing docs\n",
    "# from langchain_core.documents import Document\n",
    "# from github import Github, Auth\n",
    "# import requests\n",
    "\n",
    "# githubDocs = {\n",
    "#     'tektronix': 'tektronix/tm_devices',\n",
    "#     'pyserial': 'pyserial/pyserial',\n",
    "#     'pyvisa': 'pyvisa/pyvisa',\n",
    "#     'nidaqmx': 'ni/nidaqmx-python'\n",
    "# }\n",
    "\n",
    "# # githubDocs = {\n",
    "# #     'tektronix': 'https://github.com/tektronix/tm_devices/tree/main/docs',\n",
    "# #     'pyserial': 'https://github.com/pyserial/pyserial/tree/master/documentation',\n",
    "# #     'pyvisa': 'https://github.com/pyvisa/pyvisa/tree/main/docs',\n",
    "# #     'nidaqmx': 'https://github.com/ni/nidaqmx-python/tree/master/docs'\n",
    "# # }\n",
    "\n",
    "# g = Github(auth=Auth.Token(os.environ['GITHUB_TOKEN'])) # use auth token to avoid rate limiting\n",
    "\n",
    "# def download_file(url, filename):\n",
    "#     response = requests.get(url)\n",
    "#     open(filename, 'wb').write(response.content)\n",
    "\n",
    "# docs_obj = []\n",
    "\n",
    "# for repo_name in githubDocs.values():\n",
    "#     repo = g.get_repo(repo_name)\n",
    "#     contents = repo.get_contents(\"\")\n",
    "#     print(\"_________________________\")\n",
    "#     print(\"SCRAPING REPO\", repo_name)\n",
    "#     print(\"_________________________\")\n",
    "#     while contents:\n",
    "#         g_file = contents.pop(0)\n",
    "#         if g_file.type == \"dir\" and (any(substr in g_file.name or substr in g_file.path for substr in ('docs', 'documentation'))):\n",
    "#             print(\"dir path: \", g_file.path)\n",
    "#             contents.extend(repo.get_contents(g_file.path))\n",
    "#         elif g_file.name.endswith(('.md', '.rst')):\n",
    "#             print(\"scraping at file path:\", g_file.path)\n",
    "#             docs_obj.append({\n",
    "#                 'content': g_file.decoded_content.decode(\"utf-8\"),\n",
    "#                 'source': g_file.html_url\n",
    "#             })\n",
    "\n"
   ]
  },
  {
   "cell_type": "code",
   "execution_count": null,
   "metadata": {},
   "outputs": [
    {
     "ename": "",
     "evalue": "",
     "output_type": "error",
     "traceback": [
      "\u001b[1;31mThe kernel failed to start as 'TypeAliasType' could not be imported from '/opt/homebrew/lib/python3.10/site-packages/typing_extensions.py'.\n",
      "\u001b[1;31mClick <a href='https://aka.ms/kernelFailuresModuleImportErrFromFile'>here</a> for more info."
     ]
    }
   ],
   "source": [
    "# from langchain_text_splitters import RecursiveCharacterTextSplitter\n",
    "\n",
    "# # convert to Document objects\n",
    "# docs = list(map(lambda x: Document(page_content=x['content'], metadata={\"source\": x['source']}), docs_obj))\n",
    "\n",
    "# # split the documents\n",
    "# split_docs = RecursiveCharacterTextSplitter(\n",
    "#     chunk_size=1000,\n",
    "#     chunk_overlap=100,\n",
    "# ).create_documents(texts=[doc.page_content for doc in docs], metadatas=[doc.metadata for doc in docs])"
   ]
  },
  {
   "cell_type": "code",
   "execution_count": null,
   "metadata": {},
   "outputs": [
    {
     "ename": "",
     "evalue": "",
     "output_type": "error",
     "traceback": [
      "\u001b[1;31mThe kernel failed to start as 'TypeAliasType' could not be imported from '/opt/homebrew/lib/python3.10/site-packages/typing_extensions.py'.\n",
      "\u001b[1;31mClick <a href='https://aka.ms/kernelFailuresModuleImportErrFromFile'>here</a> for more info."
     ]
    }
   ],
   "source": [
    "# docs"
   ]
  },
  {
   "cell_type": "code",
   "execution_count": null,
   "metadata": {},
   "outputs": [
    {
     "ename": "",
     "evalue": "",
     "output_type": "error",
     "traceback": [
      "\u001b[1;31mThe kernel failed to start as 'TypeAliasType' could not be imported from '/opt/homebrew/lib/python3.10/site-packages/typing_extensions.py'.\n",
      "\u001b[1;31mClick <a href='https://aka.ms/kernelFailuresModuleImportErrFromFile'>here</a> for more info."
     ]
    }
   ],
   "source": [
    "# THIS WILL UPSERT VALUES INTO THE INDEX\n",
    "# from langchain_pinecone import PineconeVectorStore\n",
    "# from langchain_openai import OpenAIEmbeddings\n",
    "\n",
    "# embeddings = OpenAIEmbeddings()\n",
    "\n",
    "# index_name = \"hardware-libraries-embedding\"\n",
    "# docsearch = PineconeVectorStore.from_documents(split_docs, embeddings, index_name=index_name)"
   ]
  }
 ],
 "metadata": {
  "kernelspec": {
   "display_name": "Python 3 (ipykernel)",
   "language": "python",
   "name": "python3"
  },
  "language_info": {
   "codemirror_mode": {
    "name": "ipython",
    "version": 3
   },
   "file_extension": ".py",
   "mimetype": "text/x-python",
   "name": "python",
   "nbconvert_exporter": "python",
   "pygments_lexer": "ipython3",
   "version": "3.10.12"
  }
 },
 "nbformat": 4,
 "nbformat_minor": 2
}
